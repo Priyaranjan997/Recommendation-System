{
 "cells": [
  {
   "cell_type": "code",
   "execution_count": 1,
   "id": "bac92552",
   "metadata": {},
   "outputs": [],
   "source": [
    "## Content Base Recommender System\n",
    "## Collabrative Filtering (Works on User Interest)\n",
    "## Hybrid (Mixture of both Content and Collabrative)"
   ]
  },
  {
   "cell_type": "code",
   "execution_count": 2,
   "id": "4175cb5e",
   "metadata": {},
   "outputs": [],
   "source": [
    "## Going to Do \n",
    "## Data Preprocessing 2) Model Preparation 3)Website Convertion 4) Deploy"
   ]
  },
  {
   "cell_type": "code",
   "execution_count": 3,
   "id": "ac409389",
   "metadata": {},
   "outputs": [],
   "source": [
    "## We are going to work on Content Base Recommender System"
   ]
  },
  {
   "cell_type": "code",
   "execution_count": 4,
   "id": "cbaf6994",
   "metadata": {},
   "outputs": [],
   "source": [
    "import pandas as pd\n",
    "import numpy as np\n",
    "import matplotlib as plt\n",
    "import seaborn as sns\n",
    "import nltk"
   ]
  },
  {
   "cell_type": "code",
   "execution_count": 5,
   "id": "19bc904d",
   "metadata": {},
   "outputs": [],
   "source": [
    "title= pd.read_csv(\"titles.csv\")"
   ]
  },
  {
   "cell_type": "code",
   "execution_count": 6,
   "id": "0832bd03",
   "metadata": {},
   "outputs": [
    {
     "data": {
      "text/html": [
       "<div>\n",
       "<style scoped>\n",
       "    .dataframe tbody tr th:only-of-type {\n",
       "        vertical-align: middle;\n",
       "    }\n",
       "\n",
       "    .dataframe tbody tr th {\n",
       "        vertical-align: top;\n",
       "    }\n",
       "\n",
       "    .dataframe thead th {\n",
       "        text-align: right;\n",
       "    }\n",
       "</style>\n",
       "<table border=\"1\" class=\"dataframe\">\n",
       "  <thead>\n",
       "    <tr style=\"text-align: right;\">\n",
       "      <th></th>\n",
       "      <th>id</th>\n",
       "      <th>title</th>\n",
       "      <th>type</th>\n",
       "      <th>description</th>\n",
       "      <th>release_year</th>\n",
       "      <th>age_certification</th>\n",
       "      <th>runtime</th>\n",
       "      <th>genres</th>\n",
       "      <th>production_countries</th>\n",
       "      <th>seasons</th>\n",
       "      <th>imdb_id</th>\n",
       "      <th>imdb_score</th>\n",
       "      <th>imdb_votes</th>\n",
       "      <th>tmdb_popularity</th>\n",
       "      <th>tmdb_score</th>\n",
       "    </tr>\n",
       "  </thead>\n",
       "  <tbody>\n",
       "    <tr>\n",
       "      <th>0</th>\n",
       "      <td>ts20945</td>\n",
       "      <td>The Three Stooges</td>\n",
       "      <td>SHOW</td>\n",
       "      <td>The Three Stooges were an American vaudeville ...</td>\n",
       "      <td>1934</td>\n",
       "      <td>TV-PG</td>\n",
       "      <td>19</td>\n",
       "      <td>['comedy', 'family', 'animation', 'action', 'f...</td>\n",
       "      <td>['US']</td>\n",
       "      <td>26.0</td>\n",
       "      <td>tt0850645</td>\n",
       "      <td>8.6</td>\n",
       "      <td>1092.0</td>\n",
       "      <td>15.424</td>\n",
       "      <td>7.6</td>\n",
       "    </tr>\n",
       "    <tr>\n",
       "      <th>1</th>\n",
       "      <td>tm19248</td>\n",
       "      <td>The General</td>\n",
       "      <td>MOVIE</td>\n",
       "      <td>During America’s Civil War, Union spies steal ...</td>\n",
       "      <td>1926</td>\n",
       "      <td>NaN</td>\n",
       "      <td>78</td>\n",
       "      <td>['action', 'drama', 'war', 'western', 'comedy'...</td>\n",
       "      <td>['US']</td>\n",
       "      <td>NaN</td>\n",
       "      <td>tt0017925</td>\n",
       "      <td>8.2</td>\n",
       "      <td>89766.0</td>\n",
       "      <td>8.647</td>\n",
       "      <td>8.0</td>\n",
       "    </tr>\n",
       "    <tr>\n",
       "      <th>2</th>\n",
       "      <td>tm82253</td>\n",
       "      <td>The Best Years of Our Lives</td>\n",
       "      <td>MOVIE</td>\n",
       "      <td>It's the hope that sustains the spirit of ever...</td>\n",
       "      <td>1946</td>\n",
       "      <td>NaN</td>\n",
       "      <td>171</td>\n",
       "      <td>['romance', 'war', 'drama']</td>\n",
       "      <td>['US']</td>\n",
       "      <td>NaN</td>\n",
       "      <td>tt0036868</td>\n",
       "      <td>8.1</td>\n",
       "      <td>63026.0</td>\n",
       "      <td>8.435</td>\n",
       "      <td>7.8</td>\n",
       "    </tr>\n",
       "    <tr>\n",
       "      <th>3</th>\n",
       "      <td>tm83884</td>\n",
       "      <td>His Girl Friday</td>\n",
       "      <td>MOVIE</td>\n",
       "      <td>Hildy, the journalist former wife of newspaper...</td>\n",
       "      <td>1940</td>\n",
       "      <td>NaN</td>\n",
       "      <td>92</td>\n",
       "      <td>['comedy', 'drama', 'romance']</td>\n",
       "      <td>['US']</td>\n",
       "      <td>NaN</td>\n",
       "      <td>tt0032599</td>\n",
       "      <td>7.8</td>\n",
       "      <td>57835.0</td>\n",
       "      <td>11.270</td>\n",
       "      <td>7.4</td>\n",
       "    </tr>\n",
       "    <tr>\n",
       "      <th>4</th>\n",
       "      <td>tm56584</td>\n",
       "      <td>In a Lonely Place</td>\n",
       "      <td>MOVIE</td>\n",
       "      <td>An aspiring actress begins to suspect that her...</td>\n",
       "      <td>1950</td>\n",
       "      <td>NaN</td>\n",
       "      <td>94</td>\n",
       "      <td>['thriller', 'drama', 'romance']</td>\n",
       "      <td>['US']</td>\n",
       "      <td>NaN</td>\n",
       "      <td>tt0042593</td>\n",
       "      <td>7.9</td>\n",
       "      <td>30924.0</td>\n",
       "      <td>8.273</td>\n",
       "      <td>7.6</td>\n",
       "    </tr>\n",
       "  </tbody>\n",
       "</table>\n",
       "</div>"
      ],
      "text/plain": [
       "        id                        title   type  \\\n",
       "0  ts20945            The Three Stooges   SHOW   \n",
       "1  tm19248                  The General  MOVIE   \n",
       "2  tm82253  The Best Years of Our Lives  MOVIE   \n",
       "3  tm83884              His Girl Friday  MOVIE   \n",
       "4  tm56584            In a Lonely Place  MOVIE   \n",
       "\n",
       "                                         description  release_year  \\\n",
       "0  The Three Stooges were an American vaudeville ...          1934   \n",
       "1  During America’s Civil War, Union spies steal ...          1926   \n",
       "2  It's the hope that sustains the spirit of ever...          1946   \n",
       "3  Hildy, the journalist former wife of newspaper...          1940   \n",
       "4  An aspiring actress begins to suspect that her...          1950   \n",
       "\n",
       "  age_certification  runtime  \\\n",
       "0             TV-PG       19   \n",
       "1               NaN       78   \n",
       "2               NaN      171   \n",
       "3               NaN       92   \n",
       "4               NaN       94   \n",
       "\n",
       "                                              genres production_countries  \\\n",
       "0  ['comedy', 'family', 'animation', 'action', 'f...               ['US']   \n",
       "1  ['action', 'drama', 'war', 'western', 'comedy'...               ['US']   \n",
       "2                        ['romance', 'war', 'drama']               ['US']   \n",
       "3                     ['comedy', 'drama', 'romance']               ['US']   \n",
       "4                   ['thriller', 'drama', 'romance']               ['US']   \n",
       "\n",
       "   seasons    imdb_id  imdb_score  imdb_votes  tmdb_popularity  tmdb_score  \n",
       "0     26.0  tt0850645         8.6      1092.0           15.424         7.6  \n",
       "1      NaN  tt0017925         8.2     89766.0            8.647         8.0  \n",
       "2      NaN  tt0036868         8.1     63026.0            8.435         7.8  \n",
       "3      NaN  tt0032599         7.8     57835.0           11.270         7.4  \n",
       "4      NaN  tt0042593         7.9     30924.0            8.273         7.6  "
      ]
     },
     "execution_count": 6,
     "metadata": {},
     "output_type": "execute_result"
    }
   ],
   "source": [
    "title.head()"
   ]
  },
  {
   "cell_type": "markdown",
   "id": "4f38d5c6",
   "metadata": {},
   "source": []
  },
  {
   "cell_type": "code",
   "execution_count": 7,
   "id": "54e9b144",
   "metadata": {},
   "outputs": [],
   "source": [
    "movie= pd.read_csv(\"credits.csv\")"
   ]
  },
  {
   "cell_type": "code",
   "execution_count": 8,
   "id": "0a96c901",
   "metadata": {},
   "outputs": [
    {
     "data": {
      "text/html": [
       "<div>\n",
       "<style scoped>\n",
       "    .dataframe tbody tr th:only-of-type {\n",
       "        vertical-align: middle;\n",
       "    }\n",
       "\n",
       "    .dataframe tbody tr th {\n",
       "        vertical-align: top;\n",
       "    }\n",
       "\n",
       "    .dataframe thead th {\n",
       "        text-align: right;\n",
       "    }\n",
       "</style>\n",
       "<table border=\"1\" class=\"dataframe\">\n",
       "  <thead>\n",
       "    <tr style=\"text-align: right;\">\n",
       "      <th></th>\n",
       "      <th>person_id</th>\n",
       "      <th>id</th>\n",
       "      <th>name</th>\n",
       "      <th>character</th>\n",
       "      <th>role</th>\n",
       "    </tr>\n",
       "  </thead>\n",
       "  <tbody>\n",
       "    <tr>\n",
       "      <th>0</th>\n",
       "      <td>59401</td>\n",
       "      <td>ts20945</td>\n",
       "      <td>Joe Besser</td>\n",
       "      <td>Joe</td>\n",
       "      <td>ACTOR</td>\n",
       "    </tr>\n",
       "    <tr>\n",
       "      <th>1</th>\n",
       "      <td>31460</td>\n",
       "      <td>ts20945</td>\n",
       "      <td>Moe Howard</td>\n",
       "      <td>Moe</td>\n",
       "      <td>ACTOR</td>\n",
       "    </tr>\n",
       "    <tr>\n",
       "      <th>2</th>\n",
       "      <td>31461</td>\n",
       "      <td>ts20945</td>\n",
       "      <td>Larry Fine</td>\n",
       "      <td>Larry</td>\n",
       "      <td>ACTOR</td>\n",
       "    </tr>\n",
       "    <tr>\n",
       "      <th>3</th>\n",
       "      <td>21174</td>\n",
       "      <td>tm19248</td>\n",
       "      <td>Buster Keaton</td>\n",
       "      <td>Johnny Gray</td>\n",
       "      <td>ACTOR</td>\n",
       "    </tr>\n",
       "    <tr>\n",
       "      <th>4</th>\n",
       "      <td>28713</td>\n",
       "      <td>tm19248</td>\n",
       "      <td>Marion Mack</td>\n",
       "      <td>Annabelle Lee</td>\n",
       "      <td>ACTOR</td>\n",
       "    </tr>\n",
       "  </tbody>\n",
       "</table>\n",
       "</div>"
      ],
      "text/plain": [
       "   person_id       id           name      character   role\n",
       "0      59401  ts20945     Joe Besser            Joe  ACTOR\n",
       "1      31460  ts20945     Moe Howard            Moe  ACTOR\n",
       "2      31461  ts20945     Larry Fine          Larry  ACTOR\n",
       "3      21174  tm19248  Buster Keaton    Johnny Gray  ACTOR\n",
       "4      28713  tm19248    Marion Mack  Annabelle Lee  ACTOR"
      ]
     },
     "execution_count": 8,
     "metadata": {},
     "output_type": "execute_result"
    }
   ],
   "source": [
    "movie.head()"
   ]
  },
  {
   "cell_type": "code",
   "execution_count": 9,
   "id": "69b239e9",
   "metadata": {},
   "outputs": [],
   "source": [
    "movies= movie.merge(title,on='id')"
   ]
  },
  {
   "cell_type": "code",
   "execution_count": 87,
   "id": "e526cf55",
   "metadata": {},
   "outputs": [
    {
     "data": {
      "text/html": [
       "<div>\n",
       "<style scoped>\n",
       "    .dataframe tbody tr th:only-of-type {\n",
       "        vertical-align: middle;\n",
       "    }\n",
       "\n",
       "    .dataframe tbody tr th {\n",
       "        vertical-align: top;\n",
       "    }\n",
       "\n",
       "    .dataframe thead th {\n",
       "        text-align: right;\n",
       "    }\n",
       "</style>\n",
       "<table border=\"1\" class=\"dataframe\">\n",
       "  <thead>\n",
       "    <tr style=\"text-align: right;\">\n",
       "      <th></th>\n",
       "      <th>id</th>\n",
       "      <th>title</th>\n",
       "      <th>name</th>\n",
       "      <th>description</th>\n",
       "      <th>production_countries</th>\n",
       "      <th>type</th>\n",
       "      <th>genres</th>\n",
       "      <th>tags</th>\n",
       "    </tr>\n",
       "  </thead>\n",
       "  <tbody>\n",
       "    <tr>\n",
       "      <th>0</th>\n",
       "      <td>tm100001</td>\n",
       "      <td>The Lucky Texan</td>\n",
       "      <td>Tex Palmer Earl Dwire George Morrell Eddie Par...</td>\n",
       "      <td>[Jerry, Mason,, a, young, Texan,, and, Jake, B...</td>\n",
       "      <td>['US']</td>\n",
       "      <td>MOVIE</td>\n",
       "      <td>['western', 'action', 'romance']</td>\n",
       "      <td>Tex Palmer Earl Dwire George Morrell Eddie Par...</td>\n",
       "    </tr>\n",
       "  </tbody>\n",
       "</table>\n",
       "</div>"
      ],
      "text/plain": [
       "         id            title  \\\n",
       "0  tm100001  The Lucky Texan   \n",
       "\n",
       "                                                name  \\\n",
       "0  Tex Palmer Earl Dwire George Morrell Eddie Par...   \n",
       "\n",
       "                                         description production_countries  \\\n",
       "0  [Jerry, Mason,, a, young, Texan,, and, Jake, B...               ['US']   \n",
       "\n",
       "    type                            genres  \\\n",
       "0  MOVIE  ['western', 'action', 'romance']   \n",
       "\n",
       "                                                tags  \n",
       "0  Tex Palmer Earl Dwire George Morrell Eddie Par...  "
      ]
     },
     "execution_count": 87,
     "metadata": {},
     "output_type": "execute_result"
    }
   ],
   "source": [
    "movies.head(1)"
   ]
  },
  {
   "cell_type": "code",
   "execution_count": 11,
   "id": "e31f91ed",
   "metadata": {},
   "outputs": [],
   "source": [
    "movies=movies[['id','name','title','type','genres','production_countries','description']]"
   ]
  },
  {
   "cell_type": "code",
   "execution_count": 12,
   "id": "63c69cf4",
   "metadata": {},
   "outputs": [
    {
     "name": "stdout",
     "output_type": "stream",
     "text": [
      "<class 'pandas.core.frame.DataFrame'>\n",
      "Int64Index: 124347 entries, 0 to 124346\n",
      "Data columns (total 7 columns):\n",
      " #   Column                Non-Null Count   Dtype \n",
      "---  ------                --------------   ----- \n",
      " 0   id                    124347 non-null  object\n",
      " 1   name                  124347 non-null  object\n",
      " 2   title                 124347 non-null  object\n",
      " 3   type                  124347 non-null  object\n",
      " 4   genres                124347 non-null  object\n",
      " 5   production_countries  124347 non-null  object\n",
      " 6   description           124256 non-null  object\n",
      "dtypes: object(7)\n",
      "memory usage: 7.6+ MB\n"
     ]
    }
   ],
   "source": [
    "movies.info()"
   ]
  },
  {
   "cell_type": "code",
   "execution_count": 13,
   "id": "392c03ca",
   "metadata": {},
   "outputs": [
    {
     "data": {
      "text/plain": [
       "id                       0\n",
       "name                     0\n",
       "title                    0\n",
       "type                     0\n",
       "genres                   0\n",
       "production_countries     0\n",
       "description             91\n",
       "dtype: int64"
      ]
     },
     "execution_count": 13,
     "metadata": {},
     "output_type": "execute_result"
    }
   ],
   "source": [
    "movies.isnull().sum()"
   ]
  },
  {
   "cell_type": "code",
   "execution_count": 14,
   "id": "e6ce64bc",
   "metadata": {},
   "outputs": [],
   "source": [
    "## Removing of null value\n",
    "movies = movies.dropna(subset=['description'])"
   ]
  },
  {
   "cell_type": "code",
   "execution_count": 15,
   "id": "bd4fd024",
   "metadata": {},
   "outputs": [
    {
     "data": {
      "text/plain": [
       "1152"
      ]
     },
     "execution_count": 15,
     "metadata": {},
     "output_type": "execute_result"
    }
   ],
   "source": [
    "### Find the Duplicates Data\n",
    "movies.duplicated().sum()"
   ]
  },
  {
   "cell_type": "code",
   "execution_count": 16,
   "id": "0ecc46a0",
   "metadata": {},
   "outputs": [],
   "source": [
    "## Droping Duplicates Data\n",
    "movies = movies.drop_duplicates()"
   ]
  },
  {
   "cell_type": "code",
   "execution_count": 17,
   "id": "894cbfb0",
   "metadata": {},
   "outputs": [],
   "source": [
    "movies = movies.drop_duplicates(subset=['id', 'name','description','title','type'])"
   ]
  },
  {
   "cell_type": "code",
   "execution_count": 18,
   "id": "e9b5cb25",
   "metadata": {},
   "outputs": [
    {
     "data": {
      "text/plain": [
       "0"
      ]
     },
     "execution_count": 18,
     "metadata": {},
     "output_type": "execute_result"
    }
   ],
   "source": [
    "movies.duplicated().sum()"
   ]
  },
  {
   "cell_type": "code",
   "execution_count": 19,
   "id": "42fb909e",
   "metadata": {},
   "outputs": [
    {
     "name": "stdout",
     "output_type": "stream",
     "text": [
      "<class 'pandas.core.frame.DataFrame'>\n",
      "Int64Index: 123104 entries, 0 to 124345\n",
      "Data columns (total 7 columns):\n",
      " #   Column                Non-Null Count   Dtype \n",
      "---  ------                --------------   ----- \n",
      " 0   id                    123104 non-null  object\n",
      " 1   name                  123104 non-null  object\n",
      " 2   title                 123104 non-null  object\n",
      " 3   type                  123104 non-null  object\n",
      " 4   genres                123104 non-null  object\n",
      " 5   production_countries  123104 non-null  object\n",
      " 6   description           123104 non-null  object\n",
      "dtypes: object(7)\n",
      "memory usage: 7.5+ MB\n"
     ]
    }
   ],
   "source": [
    "movies.info()"
   ]
  },
  {
   "cell_type": "code",
   "execution_count": 20,
   "id": "02615b85",
   "metadata": {},
   "outputs": [
    {
     "data": {
      "text/plain": [
       "\"The Three Stooges were an American vaudeville and comedy team active from 1922 until 1970, best known for their 190 short subject films by Columbia Pictures that have been regularly airing on television since 1958. Their hallmark was physical farce and slapstick. In films, the stooges were commonly known by their actual first names. There were a total of six stooges over the act's run (with only three active at any given time), but Moe Howard and Larry Fine were the mainstays throughout the ensemble's nearly fifty-year run.\""
      ]
     },
     "execution_count": 20,
     "metadata": {},
     "output_type": "execute_result"
    }
   ],
   "source": [
    "movies.iloc[0].description  "
   ]
  },
  {
   "cell_type": "code",
   "execution_count": 21,
   "id": "77ba4614",
   "metadata": {},
   "outputs": [
    {
     "name": "stdout",
     "output_type": "stream",
     "text": [
      "<class 'pandas.core.frame.DataFrame'>\n",
      "Int64Index: 123104 entries, 0 to 124345\n",
      "Data columns (total 7 columns):\n",
      " #   Column                Non-Null Count   Dtype \n",
      "---  ------                --------------   ----- \n",
      " 0   id                    123104 non-null  object\n",
      " 1   name                  123104 non-null  object\n",
      " 2   title                 123104 non-null  object\n",
      " 3   type                  123104 non-null  object\n",
      " 4   genres                123104 non-null  object\n",
      " 5   production_countries  123104 non-null  object\n",
      " 6   description           123104 non-null  object\n",
      "dtypes: object(7)\n",
      "memory usage: 7.5+ MB\n"
     ]
    }
   ],
   "source": [
    "movies.info()"
   ]
  },
  {
   "cell_type": "code",
   "execution_count": 22,
   "id": "7439edaa",
   "metadata": {},
   "outputs": [
    {
     "name": "stdout",
     "output_type": "stream",
     "text": [
      "             id                        title  \\\n",
      "0      tm100001              The Lucky Texan   \n",
      "1     tm1000022  Boonie Bears: The Wild Life   \n",
      "2     tm1000169                    Bad Cupid   \n",
      "3     tm1000203             Digging to Death   \n",
      "4     tm1000290         Secrets in the Water   \n",
      "...         ...                          ...   \n",
      "8837      ts968                Bobby's World   \n",
      "8838    ts97421                   Chronofilm   \n",
      "8839    ts97576               Volatile Earth   \n",
      "8840     ts9770     The Adventures of Tintin   \n",
      "8841     ts9913                   Crime Inc.   \n",
      "\n",
      "                                                   name  \\\n",
      "0     Tex Palmer Earl Dwire George Morrell Eddie Par...   \n",
      "1       Chris Boike 张伟 Tan Xiao Leon Ding Nikki Stinson   \n",
      "2     Christine Turturro Shane Nepveu Diane Cossa Br...   \n",
      "3     Bryan Dodds Tom Fitzpatrick Ford Austin Clint ...   \n",
      "4     Terry Bookhart Angelica Quinn Cerina Vincent M...   \n",
      "...                                                 ...   \n",
      "8837  Howie Mandel Tino Insana Rob Paulsen Christine...   \n",
      "8838  Madison Mitchell Patrick Nalty Robert Hypes Ti...   \n",
      "8839                                       Mark Bazeley   \n",
      "8840  Thierry Wermuth Marie Vincent Michel Ruhl Henr...   \n",
      "8841                                       Martin Short   \n",
      "\n",
      "                                            description  \\\n",
      "0     Jerry Mason, a young Texan, and Jake Benson, a...   \n",
      "1     Bear brothers Briar and Bramble set off on an ...   \n",
      "2     Archie is a God on a mission to ensure that tr...   \n",
      "3     David Van Owen moves into a mysterious house a...   \n",
      "4     Inspired by a true story. When Mia’s body wash...   \n",
      "...                                                 ...   \n",
      "8837  Bobby Generic lives in a typical suburban neig...   \n",
      "8838  Chronofilm, one of the hottest reality shows o...   \n",
      "8839  Scientists who are experts in natural disaster...   \n",
      "8840  Travel with Tintin, the young and intrepid Bel...   \n",
      "8841                       The True Story Of The Mafia.   \n",
      "\n",
      "          production_countries   type  \\\n",
      "0                       ['US']  MOVIE   \n",
      "1                       ['CN']  MOVIE   \n",
      "2                           []  MOVIE   \n",
      "3                       ['US']  MOVIE   \n",
      "4                       ['US']  MOVIE   \n",
      "...                        ...    ...   \n",
      "8837                    ['US']   SHOW   \n",
      "8838                    ['US']   SHOW   \n",
      "8839                    ['GB']   SHOW   \n",
      "8840  ['US', 'BE', 'CA', 'FR']   SHOW   \n",
      "8841                    ['GB']   SHOW   \n",
      "\n",
      "                                                 genres  \n",
      "0                      ['western', 'action', 'romance']  \n",
      "1                                ['scifi', 'animation']  \n",
      "2                                 ['romance', 'comedy']  \n",
      "3                                ['horror', 'thriller']  \n",
      "4                                          ['thriller']  \n",
      "...                                                 ...  \n",
      "8837                  ['animation', 'comedy', 'family']  \n",
      "8838                                          ['scifi']  \n",
      "8839                                  ['documentation']  \n",
      "8840  ['action', 'animation', 'family', 'comedy', 'c...  \n",
      "8841                      ['documentation', 'european']  \n",
      "\n",
      "[8842 rows x 7 columns]\n"
     ]
    }
   ],
   "source": [
    "import pandas as pd\n",
    "\n",
    "def merge_ids_and_names(data):\n",
    "    # Group the DataFrame by 'id' and concatenate the IDs, names, and descriptions\n",
    "    merged_data = data.groupby(['id', 'title']).agg({\n",
    "        'name': lambda x: ' '.join(set(x)),\n",
    "        'description': lambda x: ' '.join(set(x)),\n",
    "        'production_countries': lambda x: ' '.join(set(x)),\n",
    "        'type': lambda x: ' '.join(set(x)),\n",
    "        'genres': lambda x: ' '.join(set(x)),\n",
    "    }).reset_index()\n",
    "    \n",
    "    return merged_data\n",
    "\n",
    "# Assuming you have a DataFrame named 'movies' with columns 'id', 'name', 'description', 'production_countries',\n",
    "# 'genres', 'type', and 'title'\n",
    "\n",
    "# Call the function to merge the IDs, names, and descriptions\n",
    "movies = merge_ids_and_names(movies)\n",
    "\n",
    "# Print the merged DataFrame\n",
    "print(movies)\n",
    "\n"
   ]
  },
  {
   "cell_type": "code",
   "execution_count": 23,
   "id": "eb274dc8",
   "metadata": {},
   "outputs": [
    {
     "name": "stdout",
     "output_type": "stream",
     "text": [
      "<class 'pandas.core.frame.DataFrame'>\n",
      "RangeIndex: 8842 entries, 0 to 8841\n",
      "Data columns (total 7 columns):\n",
      " #   Column                Non-Null Count  Dtype \n",
      "---  ------                --------------  ----- \n",
      " 0   id                    8842 non-null   object\n",
      " 1   title                 8842 non-null   object\n",
      " 2   name                  8842 non-null   object\n",
      " 3   description           8842 non-null   object\n",
      " 4   production_countries  8842 non-null   object\n",
      " 5   type                  8842 non-null   object\n",
      " 6   genres                8842 non-null   object\n",
      "dtypes: object(7)\n",
      "memory usage: 483.7+ KB\n"
     ]
    }
   ],
   "source": [
    "movies.info()"
   ]
  },
  {
   "cell_type": "code",
   "execution_count": 24,
   "id": "a4fd5a75",
   "metadata": {},
   "outputs": [],
   "source": [
    "movies['description'] = movies['description'].apply(lambda x: x.split())"
   ]
  },
  {
   "cell_type": "code",
   "execution_count": 25,
   "id": "16ce6389",
   "metadata": {},
   "outputs": [
    {
     "data": {
      "text/html": [
       "<div>\n",
       "<style scoped>\n",
       "    .dataframe tbody tr th:only-of-type {\n",
       "        vertical-align: middle;\n",
       "    }\n",
       "\n",
       "    .dataframe tbody tr th {\n",
       "        vertical-align: top;\n",
       "    }\n",
       "\n",
       "    .dataframe thead th {\n",
       "        text-align: right;\n",
       "    }\n",
       "</style>\n",
       "<table border=\"1\" class=\"dataframe\">\n",
       "  <thead>\n",
       "    <tr style=\"text-align: right;\">\n",
       "      <th></th>\n",
       "      <th>id</th>\n",
       "      <th>title</th>\n",
       "      <th>name</th>\n",
       "      <th>description</th>\n",
       "      <th>production_countries</th>\n",
       "      <th>type</th>\n",
       "      <th>genres</th>\n",
       "    </tr>\n",
       "  </thead>\n",
       "  <tbody>\n",
       "    <tr>\n",
       "      <th>0</th>\n",
       "      <td>tm100001</td>\n",
       "      <td>The Lucky Texan</td>\n",
       "      <td>Tex Palmer Earl Dwire George Morrell Eddie Par...</td>\n",
       "      <td>[Jerry, Mason,, a, young, Texan,, and, Jake, B...</td>\n",
       "      <td>['US']</td>\n",
       "      <td>MOVIE</td>\n",
       "      <td>['western', 'action', 'romance']</td>\n",
       "    </tr>\n",
       "    <tr>\n",
       "      <th>1</th>\n",
       "      <td>tm1000022</td>\n",
       "      <td>Boonie Bears: The Wild Life</td>\n",
       "      <td>Chris Boike 张伟 Tan Xiao Leon Ding Nikki Stinson</td>\n",
       "      <td>[Bear, brothers, Briar, and, Bramble, set, off...</td>\n",
       "      <td>['CN']</td>\n",
       "      <td>MOVIE</td>\n",
       "      <td>['scifi', 'animation']</td>\n",
       "    </tr>\n",
       "    <tr>\n",
       "      <th>2</th>\n",
       "      <td>tm1000169</td>\n",
       "      <td>Bad Cupid</td>\n",
       "      <td>Christine Turturro Shane Nepveu Diane Cossa Br...</td>\n",
       "      <td>[Archie, is, a, God, on, a, mission, to, ensur...</td>\n",
       "      <td>[]</td>\n",
       "      <td>MOVIE</td>\n",
       "      <td>['romance', 'comedy']</td>\n",
       "    </tr>\n",
       "    <tr>\n",
       "      <th>3</th>\n",
       "      <td>tm1000203</td>\n",
       "      <td>Digging to Death</td>\n",
       "      <td>Bryan Dodds Tom Fitzpatrick Ford Austin Clint ...</td>\n",
       "      <td>[David, Van, Owen, moves, into, a, mysterious,...</td>\n",
       "      <td>['US']</td>\n",
       "      <td>MOVIE</td>\n",
       "      <td>['horror', 'thriller']</td>\n",
       "    </tr>\n",
       "    <tr>\n",
       "      <th>4</th>\n",
       "      <td>tm1000290</td>\n",
       "      <td>Secrets in the Water</td>\n",
       "      <td>Terry Bookhart Angelica Quinn Cerina Vincent M...</td>\n",
       "      <td>[Inspired, by, a, true, story., When, Mia’s, b...</td>\n",
       "      <td>['US']</td>\n",
       "      <td>MOVIE</td>\n",
       "      <td>['thriller']</td>\n",
       "    </tr>\n",
       "  </tbody>\n",
       "</table>\n",
       "</div>"
      ],
      "text/plain": [
       "          id                        title  \\\n",
       "0   tm100001              The Lucky Texan   \n",
       "1  tm1000022  Boonie Bears: The Wild Life   \n",
       "2  tm1000169                    Bad Cupid   \n",
       "3  tm1000203             Digging to Death   \n",
       "4  tm1000290         Secrets in the Water   \n",
       "\n",
       "                                                name  \\\n",
       "0  Tex Palmer Earl Dwire George Morrell Eddie Par...   \n",
       "1    Chris Boike 张伟 Tan Xiao Leon Ding Nikki Stinson   \n",
       "2  Christine Turturro Shane Nepveu Diane Cossa Br...   \n",
       "3  Bryan Dodds Tom Fitzpatrick Ford Austin Clint ...   \n",
       "4  Terry Bookhart Angelica Quinn Cerina Vincent M...   \n",
       "\n",
       "                                         description production_countries  \\\n",
       "0  [Jerry, Mason,, a, young, Texan,, and, Jake, B...               ['US']   \n",
       "1  [Bear, brothers, Briar, and, Bramble, set, off...               ['CN']   \n",
       "2  [Archie, is, a, God, on, a, mission, to, ensur...                   []   \n",
       "3  [David, Van, Owen, moves, into, a, mysterious,...               ['US']   \n",
       "4  [Inspired, by, a, true, story., When, Mia’s, b...               ['US']   \n",
       "\n",
       "    type                            genres  \n",
       "0  MOVIE  ['western', 'action', 'romance']  \n",
       "1  MOVIE            ['scifi', 'animation']  \n",
       "2  MOVIE             ['romance', 'comedy']  \n",
       "3  MOVIE            ['horror', 'thriller']  \n",
       "4  MOVIE                      ['thriller']  "
      ]
     },
     "execution_count": 25,
     "metadata": {},
     "output_type": "execute_result"
    }
   ],
   "source": [
    "movies.head()"
   ]
  },
  {
   "cell_type": "code",
   "execution_count": 26,
   "id": "219c9590",
   "metadata": {},
   "outputs": [],
   "source": [
    "movies['tags'] = movies['name'] + movies['description'].apply(lambda x: ''.join(x)) + movies['production_countries'].apply(lambda x: ' '.join(x)) + movies['type'] + movies['genres'].apply(lambda x: ''.join(x))\n"
   ]
  },
  {
   "cell_type": "code",
   "execution_count": 82,
   "id": "155cd30c",
   "metadata": {},
   "outputs": [
    {
     "data": {
      "text/html": [
       "<div>\n",
       "<style scoped>\n",
       "    .dataframe tbody tr th:only-of-type {\n",
       "        vertical-align: middle;\n",
       "    }\n",
       "\n",
       "    .dataframe tbody tr th {\n",
       "        vertical-align: top;\n",
       "    }\n",
       "\n",
       "    .dataframe thead th {\n",
       "        text-align: right;\n",
       "    }\n",
       "</style>\n",
       "<table border=\"1\" class=\"dataframe\">\n",
       "  <thead>\n",
       "    <tr style=\"text-align: right;\">\n",
       "      <th></th>\n",
       "      <th>id</th>\n",
       "      <th>title</th>\n",
       "      <th>name</th>\n",
       "      <th>description</th>\n",
       "      <th>production_countries</th>\n",
       "      <th>type</th>\n",
       "      <th>genres</th>\n",
       "      <th>tags</th>\n",
       "    </tr>\n",
       "  </thead>\n",
       "  <tbody>\n",
       "    <tr>\n",
       "      <th>0</th>\n",
       "      <td>tm100001</td>\n",
       "      <td>The Lucky Texan</td>\n",
       "      <td>Tex Palmer Earl Dwire George Morrell Eddie Par...</td>\n",
       "      <td>[Jerry, Mason,, a, young, Texan,, and, Jake, B...</td>\n",
       "      <td>['US']</td>\n",
       "      <td>MOVIE</td>\n",
       "      <td>['western', 'action', 'romance']</td>\n",
       "      <td>Tex Palmer Earl Dwire George Morrell Eddie Par...</td>\n",
       "    </tr>\n",
       "    <tr>\n",
       "      <th>1</th>\n",
       "      <td>tm1000022</td>\n",
       "      <td>Boonie Bears: The Wild Life</td>\n",
       "      <td>Chris Boike 张伟 Tan Xiao Leon Ding Nikki Stinson</td>\n",
       "      <td>[Bear, brothers, Briar, and, Bramble, set, off...</td>\n",
       "      <td>['CN']</td>\n",
       "      <td>MOVIE</td>\n",
       "      <td>['scifi', 'animation']</td>\n",
       "      <td>Chris Boike 张伟 Tan Xiao Leon Ding Nikki Stinso...</td>\n",
       "    </tr>\n",
       "    <tr>\n",
       "      <th>2</th>\n",
       "      <td>tm1000169</td>\n",
       "      <td>Bad Cupid</td>\n",
       "      <td>Christine Turturro Shane Nepveu Diane Cossa Br...</td>\n",
       "      <td>[Archie, is, a, God, on, a, mission, to, ensur...</td>\n",
       "      <td>[]</td>\n",
       "      <td>MOVIE</td>\n",
       "      <td>['romance', 'comedy']</td>\n",
       "      <td>Christine Turturro Shane Nepveu Diane Cossa Br...</td>\n",
       "    </tr>\n",
       "    <tr>\n",
       "      <th>3</th>\n",
       "      <td>tm1000203</td>\n",
       "      <td>Digging to Death</td>\n",
       "      <td>Bryan Dodds Tom Fitzpatrick Ford Austin Clint ...</td>\n",
       "      <td>[David, Van, Owen, moves, into, a, mysterious,...</td>\n",
       "      <td>['US']</td>\n",
       "      <td>MOVIE</td>\n",
       "      <td>['horror', 'thriller']</td>\n",
       "      <td>Bryan Dodds Tom Fitzpatrick Ford Austin Clint ...</td>\n",
       "    </tr>\n",
       "    <tr>\n",
       "      <th>4</th>\n",
       "      <td>tm1000290</td>\n",
       "      <td>Secrets in the Water</td>\n",
       "      <td>Terry Bookhart Angelica Quinn Cerina Vincent M...</td>\n",
       "      <td>[Inspired, by, a, true, story., When, Mia’s, b...</td>\n",
       "      <td>['US']</td>\n",
       "      <td>MOVIE</td>\n",
       "      <td>['thriller']</td>\n",
       "      <td>Terry Bookhart Angelica Quinn Cerina Vincent M...</td>\n",
       "    </tr>\n",
       "  </tbody>\n",
       "</table>\n",
       "</div>"
      ],
      "text/plain": [
       "          id                        title  \\\n",
       "0   tm100001              The Lucky Texan   \n",
       "1  tm1000022  Boonie Bears: The Wild Life   \n",
       "2  tm1000169                    Bad Cupid   \n",
       "3  tm1000203             Digging to Death   \n",
       "4  tm1000290         Secrets in the Water   \n",
       "\n",
       "                                                name  \\\n",
       "0  Tex Palmer Earl Dwire George Morrell Eddie Par...   \n",
       "1    Chris Boike 张伟 Tan Xiao Leon Ding Nikki Stinson   \n",
       "2  Christine Turturro Shane Nepveu Diane Cossa Br...   \n",
       "3  Bryan Dodds Tom Fitzpatrick Ford Austin Clint ...   \n",
       "4  Terry Bookhart Angelica Quinn Cerina Vincent M...   \n",
       "\n",
       "                                         description production_countries  \\\n",
       "0  [Jerry, Mason,, a, young, Texan,, and, Jake, B...               ['US']   \n",
       "1  [Bear, brothers, Briar, and, Bramble, set, off...               ['CN']   \n",
       "2  [Archie, is, a, God, on, a, mission, to, ensur...                   []   \n",
       "3  [David, Van, Owen, moves, into, a, mysterious,...               ['US']   \n",
       "4  [Inspired, by, a, true, story., When, Mia’s, b...               ['US']   \n",
       "\n",
       "    type                            genres  \\\n",
       "0  MOVIE  ['western', 'action', 'romance']   \n",
       "1  MOVIE            ['scifi', 'animation']   \n",
       "2  MOVIE             ['romance', 'comedy']   \n",
       "3  MOVIE            ['horror', 'thriller']   \n",
       "4  MOVIE                      ['thriller']   \n",
       "\n",
       "                                                tags  \n",
       "0  Tex Palmer Earl Dwire George Morrell Eddie Par...  \n",
       "1  Chris Boike 张伟 Tan Xiao Leon Ding Nikki Stinso...  \n",
       "2  Christine Turturro Shane Nepveu Diane Cossa Br...  \n",
       "3  Bryan Dodds Tom Fitzpatrick Ford Austin Clint ...  \n",
       "4  Terry Bookhart Angelica Quinn Cerina Vincent M...  "
      ]
     },
     "execution_count": 82,
     "metadata": {},
     "output_type": "execute_result"
    }
   ],
   "source": [
    "movies.head()"
   ]
  },
  {
   "cell_type": "code",
   "execution_count": 28,
   "id": "ad4a753a",
   "metadata": {},
   "outputs": [],
   "source": [
    "new_df = movies[['id','title','tags']]"
   ]
  },
  {
   "cell_type": "code",
   "execution_count": 29,
   "id": "9c9e7831",
   "metadata": {},
   "outputs": [
    {
     "data": {
      "text/html": [
       "<div>\n",
       "<style scoped>\n",
       "    .dataframe tbody tr th:only-of-type {\n",
       "        vertical-align: middle;\n",
       "    }\n",
       "\n",
       "    .dataframe tbody tr th {\n",
       "        vertical-align: top;\n",
       "    }\n",
       "\n",
       "    .dataframe thead th {\n",
       "        text-align: right;\n",
       "    }\n",
       "</style>\n",
       "<table border=\"1\" class=\"dataframe\">\n",
       "  <thead>\n",
       "    <tr style=\"text-align: right;\">\n",
       "      <th></th>\n",
       "      <th>id</th>\n",
       "      <th>title</th>\n",
       "      <th>tags</th>\n",
       "    </tr>\n",
       "  </thead>\n",
       "  <tbody>\n",
       "    <tr>\n",
       "      <th>0</th>\n",
       "      <td>tm100001</td>\n",
       "      <td>The Lucky Texan</td>\n",
       "      <td>Tex Palmer Earl Dwire George Morrell Eddie Par...</td>\n",
       "    </tr>\n",
       "    <tr>\n",
       "      <th>1</th>\n",
       "      <td>tm1000022</td>\n",
       "      <td>Boonie Bears: The Wild Life</td>\n",
       "      <td>Chris Boike 张伟 Tan Xiao Leon Ding Nikki Stinso...</td>\n",
       "    </tr>\n",
       "    <tr>\n",
       "      <th>2</th>\n",
       "      <td>tm1000169</td>\n",
       "      <td>Bad Cupid</td>\n",
       "      <td>Christine Turturro Shane Nepveu Diane Cossa Br...</td>\n",
       "    </tr>\n",
       "    <tr>\n",
       "      <th>3</th>\n",
       "      <td>tm1000203</td>\n",
       "      <td>Digging to Death</td>\n",
       "      <td>Bryan Dodds Tom Fitzpatrick Ford Austin Clint ...</td>\n",
       "    </tr>\n",
       "    <tr>\n",
       "      <th>4</th>\n",
       "      <td>tm1000290</td>\n",
       "      <td>Secrets in the Water</td>\n",
       "      <td>Terry Bookhart Angelica Quinn Cerina Vincent M...</td>\n",
       "    </tr>\n",
       "  </tbody>\n",
       "</table>\n",
       "</div>"
      ],
      "text/plain": [
       "          id                        title  \\\n",
       "0   tm100001              The Lucky Texan   \n",
       "1  tm1000022  Boonie Bears: The Wild Life   \n",
       "2  tm1000169                    Bad Cupid   \n",
       "3  tm1000203             Digging to Death   \n",
       "4  tm1000290         Secrets in the Water   \n",
       "\n",
       "                                                tags  \n",
       "0  Tex Palmer Earl Dwire George Morrell Eddie Par...  \n",
       "1  Chris Boike 张伟 Tan Xiao Leon Ding Nikki Stinso...  \n",
       "2  Christine Turturro Shane Nepveu Diane Cossa Br...  \n",
       "3  Bryan Dodds Tom Fitzpatrick Ford Austin Clint ...  \n",
       "4  Terry Bookhart Angelica Quinn Cerina Vincent M...  "
      ]
     },
     "execution_count": 29,
     "metadata": {},
     "output_type": "execute_result"
    }
   ],
   "source": [
    "new_df.head()"
   ]
  },
  {
   "cell_type": "code",
   "execution_count": 30,
   "id": "68d34cd4",
   "metadata": {},
   "outputs": [
    {
     "name": "stderr",
     "output_type": "stream",
     "text": [
      "C:\\Users\\APEX\\AppData\\Local\\Temp\\ipykernel_9748\\38696100.py:2: SettingWithCopyWarning: \n",
      "A value is trying to be set on a copy of a slice from a DataFrame.\n",
      "Try using .loc[row_indexer,col_indexer] = value instead\n",
      "\n",
      "See the caveats in the documentation: https://pandas.pydata.org/pandas-docs/stable/user_guide/indexing.html#returning-a-view-versus-a-copy\n",
      "  new_df['tags'] = new_df['tags'].apply(lambda x:x.lower())\n"
     ]
    }
   ],
   "source": [
    "## Converting into lower case\n",
    "new_df['tags'] = new_df['tags'].apply(lambda x:x.lower())"
   ]
  },
  {
   "cell_type": "code",
   "execution_count": 31,
   "id": "339869e2",
   "metadata": {},
   "outputs": [
    {
     "data": {
      "text/html": [
       "<div>\n",
       "<style scoped>\n",
       "    .dataframe tbody tr th:only-of-type {\n",
       "        vertical-align: middle;\n",
       "    }\n",
       "\n",
       "    .dataframe tbody tr th {\n",
       "        vertical-align: top;\n",
       "    }\n",
       "\n",
       "    .dataframe thead th {\n",
       "        text-align: right;\n",
       "    }\n",
       "</style>\n",
       "<table border=\"1\" class=\"dataframe\">\n",
       "  <thead>\n",
       "    <tr style=\"text-align: right;\">\n",
       "      <th></th>\n",
       "      <th>id</th>\n",
       "      <th>title</th>\n",
       "      <th>tags</th>\n",
       "    </tr>\n",
       "  </thead>\n",
       "  <tbody>\n",
       "    <tr>\n",
       "      <th>0</th>\n",
       "      <td>tm100001</td>\n",
       "      <td>The Lucky Texan</td>\n",
       "      <td>tex palmer earl dwire george morrell eddie par...</td>\n",
       "    </tr>\n",
       "    <tr>\n",
       "      <th>1</th>\n",
       "      <td>tm1000022</td>\n",
       "      <td>Boonie Bears: The Wild Life</td>\n",
       "      <td>chris boike 张伟 tan xiao leon ding nikki stinso...</td>\n",
       "    </tr>\n",
       "    <tr>\n",
       "      <th>2</th>\n",
       "      <td>tm1000169</td>\n",
       "      <td>Bad Cupid</td>\n",
       "      <td>christine turturro shane nepveu diane cossa br...</td>\n",
       "    </tr>\n",
       "    <tr>\n",
       "      <th>3</th>\n",
       "      <td>tm1000203</td>\n",
       "      <td>Digging to Death</td>\n",
       "      <td>bryan dodds tom fitzpatrick ford austin clint ...</td>\n",
       "    </tr>\n",
       "    <tr>\n",
       "      <th>4</th>\n",
       "      <td>tm1000290</td>\n",
       "      <td>Secrets in the Water</td>\n",
       "      <td>terry bookhart angelica quinn cerina vincent m...</td>\n",
       "    </tr>\n",
       "  </tbody>\n",
       "</table>\n",
       "</div>"
      ],
      "text/plain": [
       "          id                        title  \\\n",
       "0   tm100001              The Lucky Texan   \n",
       "1  tm1000022  Boonie Bears: The Wild Life   \n",
       "2  tm1000169                    Bad Cupid   \n",
       "3  tm1000203             Digging to Death   \n",
       "4  tm1000290         Secrets in the Water   \n",
       "\n",
       "                                                tags  \n",
       "0  tex palmer earl dwire george morrell eddie par...  \n",
       "1  chris boike 张伟 tan xiao leon ding nikki stinso...  \n",
       "2  christine turturro shane nepveu diane cossa br...  \n",
       "3  bryan dodds tom fitzpatrick ford austin clint ...  \n",
       "4  terry bookhart angelica quinn cerina vincent m...  "
      ]
     },
     "execution_count": 31,
     "metadata": {},
     "output_type": "execute_result"
    }
   ],
   "source": [
    "new_df.head()"
   ]
  },
  {
   "cell_type": "code",
   "execution_count": 32,
   "id": "d6eb736f",
   "metadata": {},
   "outputs": [
    {
     "data": {
      "text/plain": [
       "\"tex palmer earl dwire george morrell eddie parker lloyd whitlock tex phelps george 'gabby' hayes john wayne jack rockwell gordon de main robert n. bradbury barbara sheldon yakima canutt artie ortegojerrymason,ayoungtexan,andjakebenson,anoldrancher,becomepartnersandstrikeitrichwithagoldmine.theythenfindtheirlivescomplicatedbybadguysandawoman.[ ' u s ' ]movie['western', 'action', 'romance']\""
      ]
     },
     "execution_count": 32,
     "metadata": {},
     "output_type": "execute_result"
    }
   ],
   "source": [
    "new_df['tags'][0]"
   ]
  },
  {
   "cell_type": "code",
   "execution_count": 33,
   "id": "aba75497",
   "metadata": {},
   "outputs": [
    {
     "data": {
      "text/plain": [
       "\"chris boike 张伟 tan xiao leon ding nikki stinsonbearbrothersbriarandbramblesetoffonanadventurewiththeirhumanfriendvicktowildland,anamusementparkwherehumanscanturnintoanimalsusingagene-technologybracelet.[ ' c n ' ]movie['scifi', 'animation']\""
      ]
     },
     "execution_count": 33,
     "metadata": {},
     "output_type": "execute_result"
    }
   ],
   "source": [
    "new_df['tags'][1]"
   ]
  },
  {
   "cell_type": "code",
   "execution_count": 34,
   "id": "dab5f82a",
   "metadata": {},
   "outputs": [],
   "source": [
    "## Converting the Text Vector to finding the nearest Moive that are matching the watch Movies\n",
    "from sklearn.feature_extraction.text import CountVectorizer\n",
    "cv = CountVectorizer(max_features=10000,stop_words='english')"
   ]
  },
  {
   "cell_type": "code",
   "execution_count": 35,
   "id": "cf0ad12c",
   "metadata": {},
   "outputs": [
    {
     "data": {
      "text/plain": [
       "array([[0, 0, 0, ..., 0, 0, 0],\n",
       "       [0, 0, 0, ..., 0, 0, 0],\n",
       "       [0, 0, 0, ..., 0, 0, 0],\n",
       "       ...,\n",
       "       [0, 0, 0, ..., 0, 0, 0],\n",
       "       [0, 0, 0, ..., 0, 0, 0],\n",
       "       [0, 0, 0, ..., 0, 0, 0]], dtype=int64)"
      ]
     },
     "execution_count": 35,
     "metadata": {},
     "output_type": "execute_result"
    }
   ],
   "source": [
    "cv.fit_transform(new_df['tags']).toarray()"
   ]
  },
  {
   "cell_type": "code",
   "execution_count": 36,
   "id": "e6906970",
   "metadata": {},
   "outputs": [
    {
     "data": {
      "text/plain": [
       "10000"
      ]
     },
     "execution_count": 36,
     "metadata": {},
     "output_type": "execute_result"
    }
   ],
   "source": [
    "len(cv.get_feature_names_out())"
   ]
  },
  {
   "cell_type": "code",
   "execution_count": 42,
   "id": "696b02f2",
   "metadata": {},
   "outputs": [
    {
     "name": "stdout",
     "output_type": "stream",
     "text": [
      "['000' '10' '100' ... 'ólafur' 'óscar' 'šerbedžija']\n"
     ]
    }
   ],
   "source": [
    "a= cv.get_feature_names_out()\n",
    "print(a)"
   ]
  },
  {
   "cell_type": "code",
   "execution_count": 46,
   "id": "5bd0326d",
   "metadata": {},
   "outputs": [
    {
     "name": "stderr",
     "output_type": "stream",
     "text": [
      "C:\\Users\\APEX\\AppData\\Local\\Temp\\ipykernel_9748\\2495759492.py:10: SettingWithCopyWarning: \n",
      "A value is trying to be set on a copy of a slice from a DataFrame.\n",
      "Try using .loc[row_indexer,col_indexer] = value instead\n",
      "\n",
      "See the caveats in the documentation: https://pandas.pydata.org/pandas-docs/stable/user_guide/indexing.html#returning-a-view-versus-a-copy\n",
      "  new_df['tags'] = new_df['tags'].apply(stem)\n"
     ]
    }
   ],
   "source": [
    "from nltk.stem import PorterStemmer\n",
    "ps = PorterStemmer()\n",
    "\n",
    "def stem(text):\n",
    "    y = []\n",
    "    for i in text.split():\n",
    "        y.append(ps.stem(i))\n",
    "    return \" \".join(y)\n",
    "\n",
    "new_df['tags'] = new_df['tags'].apply(stem)\n"
   ]
  },
  {
   "cell_type": "code",
   "execution_count": 47,
   "id": "5c0e32c8",
   "metadata": {},
   "outputs": [
    {
     "data": {
      "text/plain": [
       "array(['000', '10', '100', ..., 'ólafur', 'óscar', 'šerbedžija'],\n",
       "      dtype=object)"
      ]
     },
     "execution_count": 47,
     "metadata": {},
     "output_type": "execute_result"
    }
   ],
   "source": [
    "vectors=np.array([a])\n",
    "vectors[0]"
   ]
  },
  {
   "cell_type": "code",
   "execution_count": 48,
   "id": "7606f6a8",
   "metadata": {},
   "outputs": [
    {
     "name": "stdout",
     "output_type": "stream",
     "text": [
      "(8842, 8842)\n"
     ]
    }
   ],
   "source": [
    "from sklearn.feature_extraction.text import TfidfVectorizer\n",
    "from sklearn.metrics.pairwise import cosine_similarity\n",
    "\n",
    "# Example text data\n",
    "texts = new_df['tags']\n",
    "\n",
    "# Create TF-IDF vectorizer\n",
    "vectorizer = TfidfVectorizer()\n",
    "\n",
    "# Transform text data into numerical vectors\n",
    "vectors = vectorizer.fit_transform(texts)\n",
    "\n",
    "# Calculate cosine similarity\n",
    "similarity = cosine_similarity(vectors)\n",
    "\n",
    "print(similarity.shape)\n"
   ]
  },
  {
   "cell_type": "code",
   "execution_count": 55,
   "id": "b857c386",
   "metadata": {},
   "outputs": [
    {
     "data": {
      "text/plain": [
       "[(7675, 0.43954128907395873),\n",
       " (7823, 0.40356685332302494),\n",
       " (334, 0.3949331703396187),\n",
       " (7840, 0.3644212342331401),\n",
       " (7808, 0.2936240413343911)]"
      ]
     },
     "execution_count": 55,
     "metadata": {},
     "output_type": "execute_result"
    }
   ],
   "source": [
    "## Sorting the 6 movies on similarity basis\n",
    "sorted(list(enumerate(similarity[0])),reverse=True,key=lambda x:x[1])[1:6]"
   ]
  },
  {
   "cell_type": "code",
   "execution_count": 90,
   "id": "b75cbbb1",
   "metadata": {},
   "outputs": [],
   "source": [
    "def recommend(movie):\n",
    "    movie_index = new_df[new_df['title'] == movie].index[0]\n",
    "    distances = similarity[movie_index]\n",
    "    movies_list = sorted(list(enumerate(distances)), reverse=True, key=lambda x: x[1])[1:6]\n",
    "    for i in movies_list:\n",
    "        recommended_movie = new_df.iloc[i[0]].title\n",
    "        print(recommended_movie)\n"
   ]
  },
  {
   "cell_type": "code",
   "execution_count": 92,
   "id": "7a4d07e0",
   "metadata": {},
   "outputs": [
    {
     "name": "stdout",
     "output_type": "stream",
     "text": [
      "Kaala Patthar\n",
      "Doosara Aadmi\n",
      "Silsila\n",
      "Dil To Pagal Hai\n",
      "Lamhe\n"
     ]
    }
   ],
   "source": [
    "recommend('Kabhi Kabhie')"
   ]
  },
  {
   "cell_type": "code",
   "execution_count": null,
   "id": "53613232",
   "metadata": {},
   "outputs": [],
   "source": []
  }
 ],
 "metadata": {
  "kernelspec": {
   "display_name": "Python 3 (ipykernel)",
   "language": "python",
   "name": "python3"
  },
  "language_info": {
   "codemirror_mode": {
    "name": "ipython",
    "version": 3
   },
   "file_extension": ".py",
   "mimetype": "text/x-python",
   "name": "python",
   "nbconvert_exporter": "python",
   "pygments_lexer": "ipython3",
   "version": "3.10.9"
  }
 },
 "nbformat": 4,
 "nbformat_minor": 5
}
